{
 "cells": [
  {
   "cell_type": "markdown",
   "id": "01dddbc9",
   "metadata": {},
   "source": [
    "# Introduction: QuantFund - A Performance Analytics and Benchmarking System\n",
    "QuantFund is a quantitative analytics and benchmarking system designed to evaluate and compare the performance of investment funds against relevant market benchmarks. The system provides key insights into fund performance by calculating financial metrics such as Sharpe Ratio, Volatility, and Cumulative Returns, which are essential for understanding risk-adjusted returns and overall market positioning.\n",
    "\n",
    "As financial markets become more data-driven, asset managers and investors increasingly rely on quantitative strategies to assess fund performance and make informed decisions. This project aims to leverage advanced data analytics, visualization, and automation to streamline the process of fund evaluation and investor reporting. The system not only benchmarks fund performance but also generates automated reports, enabling fund managers to track key performance indicators (KPIs) effectively and communicate insights to stakeholders.\n",
    "\n",
    "Project Objectives:\n",
    "\n",
    "Provide a detailed comparison of investment fund performance against benchmark indices.\n",
    "Calculate essential financial metrics such as Sharpe Ratio, Volatility, and Cumulative Returns.\n",
    "Automate the generation of investor-friendly reports with key insights for decision-making.\n",
    "Showcase proficiency in Python, data visualization, and financial modeling—skills crucial for a quantitative strategist role.\n",
    "QuantFund is designed to reflect the real-world applications of quantitative finance and data science within the asset management industry, offering a powerful tool for optimizing fund performance, advising clients, and making strategic investment decisions."
   ]
  },
  {
   "cell_type": "code",
   "execution_count": 2,
   "id": "788f67fe",
   "metadata": {},
   "outputs": [
    {
     "name": "stdout",
     "output_type": "stream",
     "text": [
      "Collecting fpdf\n",
      "  Downloading fpdf-1.7.2.tar.gz (39 kB)\n",
      "  Preparing metadata (setup.py): started\n",
      "  Preparing metadata (setup.py): finished with status 'done'\n",
      "Building wheels for collected packages: fpdf\n",
      "  Building wheel for fpdf (setup.py): started\n",
      "  Building wheel for fpdf (setup.py): finished with status 'done'\n",
      "  Created wheel for fpdf: filename=fpdf-1.7.2-py2.py3-none-any.whl size=40713 sha256=933fb80004cf8c85b6ee15871b45d802206b4d70a59b3984225426453253b9ae\n",
      "  Stored in directory: c:\\users\\sylvi\\appdata\\local\\pip\\cache\\wheels\\65\\4f\\66\\bbda9866da446a72e206d6484cd97381cbc7859a7068541c36\n",
      "Successfully built fpdf\n",
      "Installing collected packages: fpdf\n",
      "Successfully installed fpdf-1.7.2\n"
     ]
    }
   ],
   "source": [
    "!pip install fpdf"
   ]
  },
  {
   "cell_type": "code",
   "execution_count": 3,
   "id": "a781ad4c",
   "metadata": {},
   "outputs": [],
   "source": [
    "# Import Libraries\n",
    "import pandas as pd\n",
    "import numpy as np\n",
    "import matplotlib.pyplot as plt\n",
    "from fpdf import FPDF\n",
    "from datetime import datetime\n",
    "\n"
   ]
  },
  {
   "cell_type": "code",
   "execution_count": 11,
   "id": "8fc6897a",
   "metadata": {},
   "outputs": [
    {
     "name": "stdout",
     "output_type": "stream",
     "text": [
      "            Net Asset Value    Return  Expense Ratio\n",
      "Date                                                \n",
      "2020-01-01       109.934283  0.006116       1.422050\n",
      "2020-01-02        97.234714 -0.034529       1.606177\n",
      "2020-01-03       112.953771  0.009862       1.631246\n",
      "2020-01-04       130.460597  0.059359       0.657530\n",
      "2020-01-05        96.316932 -0.043205       1.469518\n"
     ]
    }
   ],
   "source": [
    "# Load the Dataset\n",
    "data = pd.read_csv(r'C:\\Users\\sylvi\\Downloads\\all_stocks_5yr\\all_stocks_5yr.csv', parse_dates=['Date'], index_col='Date')\n",
    "\n",
    "\n",
    "# Preview the Data\n",
    "print(data.head())\n",
    "\n",
    "Here's another dataset from Kaggle that you can use for your **QuantFund** project:\n",
    "\n",
    "### **Stock Market Data - Historical Prices and Fundamentals**\n",
    "This dataset contains stock market data with historical prices, returns, and various financial metrics, which can be used to analyze and benchmark stock performance, similar to how you would analyze mutual funds.\n",
    "\n",
    "Here’s another suitable dataset for your project:\n",
    "\n",
    "### **S&P 500 Index Fund Data**\n",
    "This dataset contains **historical data for S&P 500 companies**, which can be used to benchmark fund performance and analyze key financial metrics. It's comprehensive and can help you perform financial analysis similar to a mutual fund.\n",
    "\n",
    "**Link**: [S&P 500 Stock Data](https://www.kaggle.com/datasets/camnugent/sandp500)\n",
    "\n",
    "### Dataset Features:\n",
    "- **Date**: The date of the stock prices.\n",
    "- **Open**: The opening price of the stock.\n",
    "- **Close**: The closing price of the stock.\n",
    "- **Volume**: The volume of shares traded.\n",
    "- **Adjusted Close**: Adjusted closing price accounting for dividends and splits.\n",
    "- **Ticker**: The stock symbol for the respective company in the S&P 500 index.\n",
    "\n",
    "### How You Can Use This Dataset:\n",
    "- **Performance Benchmarking**: Calculate daily and cumulative returns for selected S&P 500 companies.\n",
    "- **Financial Metrics**: Analyze key metrics such as Sharpe Ratio, Volatility, and Cumulative Returns to evaluate stock performance.\n",
    "- **Automation**: Develop automated reports based on stock performance using Python libraries.\n",
    "\n",
    "This dataset is versatile and can help you simulate a **quantitative strategist's** role by analyzing stock performance, benchmarking against the S&P 500 index, and creating actionable insights. \n",
    "\n",
    "Let me know if this dataset works, or if you need more help getting started!"
   ]
  },
  {
   "cell_type": "code",
   "execution_count": 13,
   "id": "9f494035",
   "metadata": {},
   "outputs": [
    {
     "ename": "KeyError",
     "evalue": "'Benchmark Return'",
     "output_type": "error",
     "traceback": [
      "\u001b[1;31m---------------------------------------------------------------------------\u001b[0m",
      "\u001b[1;31mKeyError\u001b[0m                                  Traceback (most recent call last)",
      "File \u001b[1;32m~\\anaconda3\\Lib\\site-packages\\pandas\\core\\indexes\\base.py:3653\u001b[0m, in \u001b[0;36mIndex.get_loc\u001b[1;34m(self, key)\u001b[0m\n\u001b[0;32m   3652\u001b[0m \u001b[38;5;28;01mtry\u001b[39;00m:\n\u001b[1;32m-> 3653\u001b[0m     \u001b[38;5;28;01mreturn\u001b[39;00m \u001b[38;5;28mself\u001b[39m\u001b[38;5;241m.\u001b[39m_engine\u001b[38;5;241m.\u001b[39mget_loc(casted_key)\n\u001b[0;32m   3654\u001b[0m \u001b[38;5;28;01mexcept\u001b[39;00m \u001b[38;5;167;01mKeyError\u001b[39;00m \u001b[38;5;28;01mas\u001b[39;00m err:\n",
      "File \u001b[1;32m~\\anaconda3\\Lib\\site-packages\\pandas\\_libs\\index.pyx:147\u001b[0m, in \u001b[0;36mpandas._libs.index.IndexEngine.get_loc\u001b[1;34m()\u001b[0m\n",
      "File \u001b[1;32m~\\anaconda3\\Lib\\site-packages\\pandas\\_libs\\index.pyx:176\u001b[0m, in \u001b[0;36mpandas._libs.index.IndexEngine.get_loc\u001b[1;34m()\u001b[0m\n",
      "File \u001b[1;32mpandas\\_libs\\hashtable_class_helper.pxi:7080\u001b[0m, in \u001b[0;36mpandas._libs.hashtable.PyObjectHashTable.get_item\u001b[1;34m()\u001b[0m\n",
      "File \u001b[1;32mpandas\\_libs\\hashtable_class_helper.pxi:7088\u001b[0m, in \u001b[0;36mpandas._libs.hashtable.PyObjectHashTable.get_item\u001b[1;34m()\u001b[0m\n",
      "\u001b[1;31mKeyError\u001b[0m: 'Benchmark Return'",
      "\nThe above exception was the direct cause of the following exception:\n",
      "\u001b[1;31mKeyError\u001b[0m                                  Traceback (most recent call last)",
      "Cell \u001b[1;32mIn[13], line 3\u001b[0m\n\u001b[0;32m      1\u001b[0m \u001b[38;5;66;03m# Calculate Daily Returns\u001b[39;00m\n\u001b[0;32m      2\u001b[0m data[\u001b[38;5;124m'\u001b[39m\u001b[38;5;124mFund_Returns\u001b[39m\u001b[38;5;124m'\u001b[39m] \u001b[38;5;241m=\u001b[39m data[\u001b[38;5;124m'\u001b[39m\u001b[38;5;124mReturn\u001b[39m\u001b[38;5;124m'\u001b[39m]\n\u001b[1;32m----> 3\u001b[0m data[\u001b[38;5;124m'\u001b[39m\u001b[38;5;124mBenchmark_Returns\u001b[39m\u001b[38;5;124m'\u001b[39m] \u001b[38;5;241m=\u001b[39m data[\u001b[38;5;124m'\u001b[39m\u001b[38;5;124mBenchmark Return\u001b[39m\u001b[38;5;124m'\u001b[39m]\n\u001b[0;32m      5\u001b[0m \u001b[38;5;66;03m# Calculate Cumulative Returns\u001b[39;00m\n\u001b[0;32m      6\u001b[0m data[\u001b[38;5;124m'\u001b[39m\u001b[38;5;124mFund_Cumulative\u001b[39m\u001b[38;5;124m'\u001b[39m] \u001b[38;5;241m=\u001b[39m (\u001b[38;5;241m1\u001b[39m \u001b[38;5;241m+\u001b[39m data[\u001b[38;5;124m'\u001b[39m\u001b[38;5;124mFund_Returns\u001b[39m\u001b[38;5;124m'\u001b[39m])\u001b[38;5;241m.\u001b[39mcumprod() \u001b[38;5;241m-\u001b[39m \u001b[38;5;241m1\u001b[39m\n",
      "File \u001b[1;32m~\\anaconda3\\Lib\\site-packages\\pandas\\core\\frame.py:3761\u001b[0m, in \u001b[0;36mDataFrame.__getitem__\u001b[1;34m(self, key)\u001b[0m\n\u001b[0;32m   3759\u001b[0m \u001b[38;5;28;01mif\u001b[39;00m \u001b[38;5;28mself\u001b[39m\u001b[38;5;241m.\u001b[39mcolumns\u001b[38;5;241m.\u001b[39mnlevels \u001b[38;5;241m>\u001b[39m \u001b[38;5;241m1\u001b[39m:\n\u001b[0;32m   3760\u001b[0m     \u001b[38;5;28;01mreturn\u001b[39;00m \u001b[38;5;28mself\u001b[39m\u001b[38;5;241m.\u001b[39m_getitem_multilevel(key)\n\u001b[1;32m-> 3761\u001b[0m indexer \u001b[38;5;241m=\u001b[39m \u001b[38;5;28mself\u001b[39m\u001b[38;5;241m.\u001b[39mcolumns\u001b[38;5;241m.\u001b[39mget_loc(key)\n\u001b[0;32m   3762\u001b[0m \u001b[38;5;28;01mif\u001b[39;00m is_integer(indexer):\n\u001b[0;32m   3763\u001b[0m     indexer \u001b[38;5;241m=\u001b[39m [indexer]\n",
      "File \u001b[1;32m~\\anaconda3\\Lib\\site-packages\\pandas\\core\\indexes\\base.py:3655\u001b[0m, in \u001b[0;36mIndex.get_loc\u001b[1;34m(self, key)\u001b[0m\n\u001b[0;32m   3653\u001b[0m     \u001b[38;5;28;01mreturn\u001b[39;00m \u001b[38;5;28mself\u001b[39m\u001b[38;5;241m.\u001b[39m_engine\u001b[38;5;241m.\u001b[39mget_loc(casted_key)\n\u001b[0;32m   3654\u001b[0m \u001b[38;5;28;01mexcept\u001b[39;00m \u001b[38;5;167;01mKeyError\u001b[39;00m \u001b[38;5;28;01mas\u001b[39;00m err:\n\u001b[1;32m-> 3655\u001b[0m     \u001b[38;5;28;01mraise\u001b[39;00m \u001b[38;5;167;01mKeyError\u001b[39;00m(key) \u001b[38;5;28;01mfrom\u001b[39;00m \u001b[38;5;21;01merr\u001b[39;00m\n\u001b[0;32m   3656\u001b[0m \u001b[38;5;28;01mexcept\u001b[39;00m \u001b[38;5;167;01mTypeError\u001b[39;00m:\n\u001b[0;32m   3657\u001b[0m     \u001b[38;5;66;03m# If we have a listlike key, _check_indexing_error will raise\u001b[39;00m\n\u001b[0;32m   3658\u001b[0m     \u001b[38;5;66;03m#  InvalidIndexError. Otherwise we fall through and re-raise\u001b[39;00m\n\u001b[0;32m   3659\u001b[0m     \u001b[38;5;66;03m#  the TypeError.\u001b[39;00m\n\u001b[0;32m   3660\u001b[0m     \u001b[38;5;28mself\u001b[39m\u001b[38;5;241m.\u001b[39m_check_indexing_error(key)\n",
      "\u001b[1;31mKeyError\u001b[0m: 'Benchmark Return'"
     ]
    }
   ],
   "source": [
    "# Calculate Daily Returns\n",
    "data['Fund_Returns'] = data['Return']\n",
    "data['Benchmark_Returns'] = data['Benchmark Return']\n",
    "\n",
    "# Calculate Cumulative Returns\n",
    "data['Fund_Cumulative'] = (1 + data['Fund_Returns']).cumprod() - 1\n",
    "data['Benchmark_Cumulative'] = (1 + data['Benchmark_Returns']).cumprod() - 1\n",
    "\n",
    "# Plot Cumulative Performance\n",
    "plt.figure(figsize=(12, 6))\n",
    "plt.plot(data.index, data['Fund_Cumulative'], label='Fund')\n",
    "plt.plot(data.index, data['Benchmark_Cumulative'], label='Benchmark')\n",
    "plt.title('Cumulative Performance Comparison')\n",
    "plt.xlabel('Date')\n",
    "plt.ylabel('Cumulative Returns')\n",
    "plt.legend()\n",
    "plt.grid(True)\n",
    "plt.show()\n",
    "\n",
    "# Calculate Financial Metrics\n",
    "def calculate_sharpe_ratio(returns, risk_free_rate=0.01):\n",
    "    excess_returns = returns - risk_free_rate / 252\n",
    "    return np.sqrt(252) * (excess_returns.mean() / returns.std())\n",
    "\n",
    "sharpe_ratio = calculate_sharpe_ratio(data['Fund_Returns'].dropna())\n",
    "benchmark_sharpe = calculate_sharpe_ratio(data['Benchmark_Returns'].dropna())\n",
    "\n",
    "volatility = data['Fund_Returns'].std() * np.sqrt(252)\n",
    "\n",
    "# Report Generation\n",
    "def generate_report():\n",
    "    pdf = FPDF()\n",
    "    pdf.add_page()\n",
    "\n",
    "    pdf.set_font(\"Arial\", 'B', 16)\n",
    "    pdf.cell(200, 10, txt=\"Fund Performance Report\", ln=True, align=\"C\")\n",
    "\n",
    "    # Report Summary\n",
    "    pdf.set_font(\"Arial\", size=12)\n",
    "    pdf.cell(200, 10, txt=f\"Date: {datetime.today().strftime('%Y-%m-%d')}\", ln=True)\n",
    "    pdf.cell(200, 10, txt=f\"Sharpe Ratio (Fund): {sharpe_ratio:.2f}\", ln=True)\n",
    "    pdf.cell(200, 10, txt=f\"Sharpe Ratio (Benchmark): {benchmark_sharpe:.2f}\", ln=True)\n",
    "    pdf.cell(200, 10, txt=f\"Annualized Volatility (Fund): {volatility:.2f}\", ln=True)\n",
    "\n",
    "    # Save PDF\n",
    "    pdf.output(\"Fund_Performance_Report.pdf\")\n",
    "\n",
    "# Generate the report\n",
    "generate_report()"
   ]
  },
  {
   "cell_type": "code",
   "execution_count": null,
   "id": "c01fd97a",
   "metadata": {},
   "outputs": [],
   "source": []
  }
 ],
 "metadata": {
  "kernelspec": {
   "display_name": "Python 3 (ipykernel)",
   "language": "python",
   "name": "python3"
  },
  "language_info": {
   "codemirror_mode": {
    "name": "ipython",
    "version": 3
   },
   "file_extension": ".py",
   "mimetype": "text/x-python",
   "name": "python",
   "nbconvert_exporter": "python",
   "pygments_lexer": "ipython3",
   "version": "3.11.5"
  }
 },
 "nbformat": 4,
 "nbformat_minor": 5
}
